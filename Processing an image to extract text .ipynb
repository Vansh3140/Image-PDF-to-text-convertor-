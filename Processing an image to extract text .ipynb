{
 "cells": [
  {
   "cell_type": "code",
   "execution_count": 1,
   "id": "1e04acca",
   "metadata": {},
   "outputs": [],
   "source": [
    "import cv2\n",
    "import pytesseract"
   ]
  },
  {
   "cell_type": "code",
   "execution_count": 2,
   "id": "c89913a5",
   "metadata": {},
   "outputs": [],
   "source": [
    "pytesseract.pytesseract.tesseract_cmd=r'C:\\Program Files\\Tesseract-OCR\\tesseract.exe'"
   ]
  },
  {
   "cell_type": "code",
   "execution_count": 3,
   "id": "8648681c",
   "metadata": {},
   "outputs": [],
   "source": [
    "img1=cv2.imread('C:\\\\Users\\\\DELL\\\\OneDrive\\\\Desktop\\\\Data Science ML\\\\Projects\\\\Image to text using Pytesseract\\\\1.jpg')\n",
    "img2=cv2.imread('C:\\\\Users\\\\DELL\\\\OneDrive\\\\Desktop\\\\Data Science ML\\\\Projects\\\\Image to text using Pytesseract\\\\2.jpg')\n",
    "img3=cv2.imread('C:\\\\Users\\\\DELL\\\\OneDrive\\\\Desktop\\\\Data Science ML\\\\Projects\\\\Image to text using Pytesseract\\\\3.jpg')"
   ]
  },
  {
   "cell_type": "code",
   "execution_count": 4,
   "id": "4ac35b62",
   "metadata": {},
   "outputs": [
    {
     "name": "stdout",
     "output_type": "stream",
     "text": [
      "ying an dependent contented he gentleman agreeable do be. Warrant\n",
      "emoved an in equally totally if. Del: Lor Sar\n",
      "objection do mr prevailed. Mr feeling do chiefly cordial in do. Hater timed folly\n",
      "right aware if oh truth. Imprudence attachment him his for sympathize. Large above\n",
      "be to means. Dashwood do provided stronger is. But discretion frequently sir the\n",
      "she instrument unaffected admiration everything.\n",
      "\n",
      "Her extensive perceived may any sincerity,\n",
      "see. Old propriety delighted\n",
      "Doubt meri\n",
      "northward. Congisted we atheruise arrang ng commanded d\n",
      "Cho old even song like tao yet been. ‘Literature inter doannouncing for\n",
      "terminated him inquietude day shy. Hi nm perhaps waiting if\n",
      "highest no it, Continued promotion has consulted fat improving not way.\n",
      "\n",
      "tramity. Indeed add rather may pretty\n",
      "i obj lion gam ten her.\n",
      "nition smallness he\n",
      "ry it explained.\n",
      "\n",
      "Far quitting dwelling grac\n",
      "show am shed sold cold. Unatte\n",
      "terminated led. Result either d\n",
      "ferrars it ye besides resolve.\n",
      "pursuit at regular do parlo\n",
      "\n",
      "d remarkably lence\n",
      "\n",
      "gn san she 3 (in ashamed no inhabit\n",
      "Hn judgment yf i\n",
      "Rank what has into fond she.\n",
      "\n",
      "(4 friendship on inhabiting diminution discovered\n",
      "building few nor. Ghject he barton no effect play\n",
      "oppe we little seeing or branch.\n",
      "frequently you pos: ion tl\n",
      "held lain give yet.\n",
      "\n",
      "Tid friendly eat breeding\n",
      "\n",
      "do valley afford. Period so to\n",
      "Announcing contrasted not imprudence add\n",
      "\n",
      "ried gam his hou are and misery. Hour had\n",
      "\n",
      "\n"
     ]
    }
   ],
   "source": [
    "print(pytesseract.image_to_string(img1))"
   ]
  },
  {
   "cell_type": "code",
   "execution_count": 5,
   "id": "7bda6de7",
   "metadata": {},
   "outputs": [
    {
     "name": "stdout",
     "output_type": "stream",
     "text": [
      "\n"
     ]
    }
   ],
   "source": [
    "print(pytesseract.image_to_string(img2))"
   ]
  },
  {
   "cell_type": "code",
   "execution_count": 6,
   "id": "54b30ec6",
   "metadata": {},
   "outputs": [
    {
     "name": "stdout",
     "output_type": "stream",
     "text": [
      "Satistied oomveying an dependent contented he gentleman agreeable do be. Warrant\n",
      "private blushes removed an in equally totally if. Delivered dejeotion necessary\n",
      "objection do mr prevailed. Mr feeling do chiefly cordial in do. Water timed folly\n",
      "right aware if oh truth. Imprudence attachment him his for sympathize. Large above\n",
      "be to means. Dashwood do provided stronger is, But discretion frequently sir the\n",
      "she instrument unaffected admiration everything,\n",
      "\n",
      "Her extensive perceived may any sincerity extremity. Indeed add rather may pretty\n",
      "see. Old propriety delighted explained perceived otherwise objection saw ten her.\n",
      "Doubt merit sir the right these alone keeps. By sometimes intention smallness he\n",
      "northward. Consisted we otherwise arranging commanded disoovery it explained.\n",
      "Does cold even song like two yet been. Literature interested announcing for\n",
      "terminated him inquietude day shy. Himself he fertile chicken perhaps waiting if\n",
      "highest mo it, Continued promotion has consulted fat improving not way.\n",
      "\n",
      "Far quitting dwelling graceful the likewise received building. An fact so to that\n",
      "show am shed sold cold. Unaffected remarkably get yet introduced excellence\n",
      "terminated led. Result either design saw she esteem and. On ashamed no inhabit\n",
      "ferrars it ye besides resolve. Own judgment directly few trifling. Elderly as\n",
      "pursuit at regular do parlors. Rank what has into fond she.\n",
      "\n",
      "Of friendship on inhabiting diminution discovered as. Did friendly eat breeding\n",
      "building few nor. Object he barton no effect played valley afford. Period so to\n",
      "oppose we little seeing or branch. Announcing contrasted not imprudence add\n",
      "frequently you possession mrs. Period saw his houses square and misery. Hour had\n",
      "held lain give yet.\n",
      "\n"
     ]
    }
   ],
   "source": [
    "print(pytesseract.image_to_string(img3))"
   ]
  },
  {
   "cell_type": "code",
   "execution_count": 7,
   "id": "13e87307",
   "metadata": {},
   "outputs": [
    {
     "name": "stdout",
     "output_type": "stream",
     "text": [
      "Requirement already satisfied: pdf2image in c:\\users\\dell\\anaconda3\\lib\\site-packages (1.16.3)\n",
      "Requirement already satisfied: pillow in c:\\users\\dell\\anaconda3\\lib\\site-packages (from pdf2image) (9.2.0)\n"
     ]
    }
   ],
   "source": [
    "!pip install pdf2image"
   ]
  },
  {
   "cell_type": "code",
   "execution_count": 10,
   "id": "0a397032",
   "metadata": {},
   "outputs": [],
   "source": [
    "from pdf2image import convert_from_path"
   ]
  },
  {
   "cell_type": "code",
   "execution_count": 11,
   "id": "793693d6",
   "metadata": {},
   "outputs": [],
   "source": [
    "pdf1=convert_from_path('C:\\\\Users\\\\DELL\\\\OneDrive\\\\Desktop\\\\Data Science ML\\\\Projects\\\\Image to text using Pytesseract\\\\table.pdf',500,poppler_path=r'C:\\Program Files\\poppler-23.05.0\\Library\\bin')"
   ]
  },
  {
   "cell_type": "code",
   "execution_count": 12,
   "id": "6085f238",
   "metadata": {},
   "outputs": [],
   "source": [
    "for i in range(len(pdf1)):\n",
    "    pdf1[i].save('page'+str(i)+'.jpg','JPEG')"
   ]
  },
  {
   "cell_type": "code",
   "execution_count": 13,
   "id": "916f6aea",
   "metadata": {},
   "outputs": [
    {
     "name": "stdout",
     "output_type": "stream",
     "text": [
      "2\n"
     ]
    }
   ],
   "source": [
    "print(len(pdf1))"
   ]
  },
  {
   "cell_type": "code",
   "execution_count": 14,
   "id": "344f561a",
   "metadata": {},
   "outputs": [],
   "source": [
    "img4=pdf1[0]\n",
    "img5=pdf1[1]"
   ]
  },
  {
   "cell_type": "code",
   "execution_count": 21,
   "id": "af22cd4c",
   "metadata": {},
   "outputs": [
    {
     "name": "stdout",
     "output_type": "stream",
     "text": [
      "NATIONAL PARTNERSHIP FOR QUALITY AFTERSCHOOL LEARNING\n",
      "www.sedl.org/afterschool/toolkits\n",
      "\n",
      "AFTERSCHOOL TRAINING TOOLKIT\n",
      "\n",
      "Tutoring to Enhance Science Skills\n",
      "Tutoring Two: Learning to Make Data Tables\n",
      "\n",
      "Sample Data for Data Tables\n",
      "\n",
      "Use these data to create data tables following the Guidelines for Making a Data Table and\n",
      "Checklist for a Data Table.\n",
      "\n",
      "Example 1: Pet Survey (GR 2-3)\n",
      "Ms. Hubert’s afterschool students took a survey of the 600 students at Morales Elementary\n",
      "School. Students were asked to select their favorite pet from a list of eight animals. Here\n",
      "are the results.\n",
      "\n",
      "Lizard 25, Dog 250, Cat 115, Bird 50, Guinea pig 30, Hamster 45, Fish 75,\n",
      "\n",
      "Ferret 10\n",
      "\n",
      "Example 2: Electromagnets—Increasing Coils (GR 3-5)\n",
      "\n",
      "The following data were collected using an electromagnet with a 1.5 volt battery, a switch,\n",
      "a piece of #20 insulated wire, and a nail. Three trials were run. Safety precautions in\n",
      "repeating this experiment include using safety goggles or safety spectacles and avoiding\n",
      "Short circuits.\n",
      "\n",
      "Number of Coils Number of Paperclips\n",
      "\n",
      "11, 10, 12\n",
      "15, 13, 14\n",
      "\n",
      "Example 3: pH of Substances (GR 5-10)\n",
      "\n",
      "The following are pH values of common household substances taken by three different\n",
      "teams using pH probes. Safety precautions in repeating this experiment include hooded\n",
      "ventilation, chemical-splash safety goggles, gloves, and apron. Do not use bleach,\n",
      "ammonia, or strong acids with children.\n",
      "\n",
      "Lemon juice 2.4, 2.0, 2.2; Baking soda (1 Tbsp) in Water (1 cup) 8.4, 8.3, 8.7;\n",
      "Orange juice 3.5, 4.0, 3.4; Battery acid 1.0, 0.7, 0.5; Apples 3.0, 3.2, 3.5;\n",
      "Tomatoes 4.5, 4.2, 4.0; Bottled water 6.7, 7.0, 7.2; Milk of magnesia 10.5, 10.3,\n",
      "10.6; Liquid hand soap 9.0, 10.0, 9.5; Vinegar 2.2, 2.9, 3.0; Household bleach\n",
      "12.5, 12.5, 12.7; Milk 6.6, 6.5, 6.4; Household ammonia 11.5, 11.0, 11.5;\n",
      "\n",
      "Lye 13.0, 13.5, 13.4; and Sodium hydroxide 14.0, 14.0, 13.9; Anti-freeze 10.1,\n",
      "10.9, 9.7; Windex 9.9. 10.2, 9.5; Liquid detergent 10.5, 10.0, 10.3; and\n",
      "\n",
      "Cola 3.0, 2.5, 3.2\n",
      "\n",
      "Teaching tip: The pH scale is from O to 14. Have students make two data tables, one\n",
      "with the data as given and one with the pH scale O to 14 with the substances’ average\n",
      "DH in rank order on the scale (Battery acid at the lower end and Sodium hydroxide at\n",
      "the upper end) or create a pH graphic organizer.\n",
      "\n",
      "1\n",
      "\n"
     ]
    }
   ],
   "source": [
    "print(pytesseract.image_to_string(img4))"
   ]
  },
  {
   "cell_type": "code",
   "execution_count": 15,
   "id": "7fb50c98",
   "metadata": {},
   "outputs": [
    {
     "name": "stdout",
     "output_type": "stream",
     "text": [
      "Example 4: Automobile Land Speed Records (GR 5-10)\n",
      "\n",
      "In the first recorded automobile race in 1898, Count Gaston de Chasseloup-Laubat of\n",
      "Paris, France, drove 1 kilometer in 57 seconds for an average speed of 39.2 miles per hour\n",
      "(mph) or 63.1 kilometers per hour (kph). In 1904, Henry Ford drove his Ford Arrow across\n",
      "frozen Lake St. Clair, MI, at an average speed of 91.4 mph. Now, the North American\n",
      "Eagle is trying to break a land speed record of 800 mph. The Federation International de\n",
      "L’‘Automobile (FIA), the world’s governing body for motor sport and land speed records,\n",
      "recorded the following land speed records. (Retrieved on February 5, 2006, from\n",
      "\n",
      "http ://www.landspeed.com/Isrinfo.asp. )\n",
      "\n",
      "[seced (mony) [over [er ———~=*dés Rowing =| te\n",
      "\n",
      "Example 5: Distance and Time (GR 8-10)\n",
      "\n",
      "The following data were collected using a car with a water clock set to release a drop in\n",
      "\n",
      "a unit of time and a meter stick. The car rolled down an inclined plane. Three trials were\n",
      "run. Create a data table with an average distance column and an average velocity column,\n",
      "create an average distance-time graph, and draw the best-fit line or curve. Estimate the\n",
      "car’s distance traveled and velocity at six drops of water. Describe the motion of the car. Is\n",
      "it going at a constant speed, accelerating, or decelerating? How do you know?\n",
      "\n",
      "Time (drops of water) Distance (cm)\n",
      "O18\n",
      "29, 31, 30\n",
      "\n",
      "© 2006 WGBH Educational Foundation. All rights reserved.\n",
      "2\n",
      "\n"
     ]
    }
   ],
   "source": [
    "print(pytesseract.image_to_string(img5))"
   ]
  }
 ],
 "metadata": {
  "kernelspec": {
   "display_name": "Python 3 (ipykernel)",
   "language": "python",
   "name": "python3"
  },
  "language_info": {
   "codemirror_mode": {
    "name": "ipython",
    "version": 3
   },
   "file_extension": ".py",
   "mimetype": "text/x-python",
   "name": "python",
   "nbconvert_exporter": "python",
   "pygments_lexer": "ipython3",
   "version": "3.9.13"
  }
 },
 "nbformat": 4,
 "nbformat_minor": 5
}
